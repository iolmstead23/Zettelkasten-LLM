{
 "cells": [
  {
   "cell_type": "code",
   "execution_count": 108,
   "id": "5536d51c",
   "metadata": {},
   "outputs": [
    {
     "name": "stdout",
     "output_type": "stream",
     "text": [
      "Requirement already satisfied: networkx in c:\\users\\olmsteads\\.pyenv\\pyenv-win\\versions\\3.7.4\\lib\\site-packages (2.6.3)\n",
      "Requirement already satisfied: plotly==4.9.0 in c:\\users\\olmsteads\\.pyenv\\pyenv-win\\versions\\3.7.4\\lib\\site-packages (4.9.0)\n",
      "Requirement already satisfied: retrying>=1.3.3 in c:\\users\\olmsteads\\.pyenv\\pyenv-win\\versions\\3.7.4\\lib\\site-packages (from plotly==4.9.0) (1.3.4)\n",
      "Requirement already satisfied: six in c:\\users\\olmsteads\\.pyenv\\pyenv-win\\versions\\3.7.4\\lib\\site-packages (from plotly==4.9.0) (1.17.0)\n",
      "Requirement already satisfied: pandas in c:\\users\\olmsteads\\.pyenv\\pyenv-win\\versions\\3.7.4\\lib\\site-packages (1.3.5)\n",
      "Requirement already satisfied: python-dateutil>=2.7.3 in c:\\users\\olmsteads\\.pyenv\\pyenv-win\\versions\\3.7.4\\lib\\site-packages (from pandas) (2.9.0.post0)\n",
      "Requirement already satisfied: pytz>=2017.3 in c:\\users\\olmsteads\\.pyenv\\pyenv-win\\versions\\3.7.4\\lib\\site-packages (from pandas) (2024.2)\n",
      "Requirement already satisfied: numpy>=1.17.3 in c:\\users\\olmsteads\\.pyenv\\pyenv-win\\versions\\3.7.4\\lib\\site-packages (from pandas) (1.21.6)\n",
      "Requirement already satisfied: six>=1.5 in c:\\users\\olmsteads\\.pyenv\\pyenv-win\\versions\\3.7.4\\lib\\site-packages (from python-dateutil>=2.7.3->pandas) (1.17.0)\n",
      "Requirement already satisfied: matplotlib in c:\\users\\olmsteads\\.pyenv\\pyenv-win\\versions\\3.7.4\\lib\\site-packages (3.5.3)\n",
      "Requirement already satisfied: cycler>=0.10 in c:\\users\\olmsteads\\.pyenv\\pyenv-win\\versions\\3.7.4\\lib\\site-packages (from matplotlib) (0.11.0)\n",
      "Requirement already satisfied: fonttools>=4.22.0 in c:\\users\\olmsteads\\.pyenv\\pyenv-win\\versions\\3.7.4\\lib\\site-packages (from matplotlib) (4.38.0)\n",
      "Requirement already satisfied: kiwisolver>=1.0.1 in c:\\users\\olmsteads\\.pyenv\\pyenv-win\\versions\\3.7.4\\lib\\site-packages (from matplotlib) (1.4.5)\n",
      "Requirement already satisfied: numpy>=1.17 in c:\\users\\olmsteads\\.pyenv\\pyenv-win\\versions\\3.7.4\\lib\\site-packages (from matplotlib) (1.21.6)\n",
      "Requirement already satisfied: packaging>=20.0 in c:\\users\\olmsteads\\.pyenv\\pyenv-win\\versions\\3.7.4\\lib\\site-packages (from matplotlib) (24.0)\n",
      "Requirement already satisfied: pillow>=6.2.0 in c:\\users\\olmsteads\\.pyenv\\pyenv-win\\versions\\3.7.4\\lib\\site-packages (from matplotlib) (9.5.0)\n",
      "Requirement already satisfied: pyparsing>=2.2.1 in c:\\users\\olmsteads\\.pyenv\\pyenv-win\\versions\\3.7.4\\lib\\site-packages (from matplotlib) (3.1.4)\n",
      "Requirement already satisfied: python-dateutil>=2.7 in c:\\users\\olmsteads\\.pyenv\\pyenv-win\\versions\\3.7.4\\lib\\site-packages (from matplotlib) (2.9.0.post0)\n",
      "Requirement already satisfied: typing-extensions in c:\\users\\olmsteads\\.pyenv\\pyenv-win\\versions\\3.7.4\\lib\\site-packages (from kiwisolver>=1.0.1->matplotlib) (4.7.1)\n",
      "Requirement already satisfied: six>=1.5 in c:\\users\\olmsteads\\.pyenv\\pyenv-win\\versions\\3.7.4\\lib\\site-packages (from python-dateutil>=2.7->matplotlib) (1.17.0)\n"
     ]
    }
   ],
   "source": [
    "#Install needed packages\n",
    "!pip install networkx\n",
    "!pip install plotly==4.9.0\n",
    "!pip install pandas\n",
    "!pip install matplotlib"
   ]
  },
  {
   "cell_type": "code",
   "execution_count": 109,
   "id": "803577a7",
   "metadata": {},
   "outputs": [],
   "source": [
    "#Import the required packages\n",
    "import networkx as nx \n",
    "import plotly.graph_objects as go\n",
    "import pandas as pd\n",
    "import matplotlib.pyplot as plt\n",
    "\n",
    "%matplotlib inline"
   ]
  },
  {
   "cell_type": "code",
   "execution_count": 112,
   "id": "3b31cd2c",
   "metadata": {},
   "outputs": [
    {
     "data": {
      "application/vnd.plotly.v1+json": {
       "config": {
        "plotlyServerURL": "https://plot.ly"
       },
       "data": [
        {
         "hoverinfo": "none",
         "line": {
          "color": "black",
          "width": 2
         },
         "mode": "lines",
         "type": "scatter3d",
         "x": [
          0.22400967916096695,
          0.29114877552472945,
          null,
          0.22400967916096695,
          0.3564311807008682,
          null,
          0.22400967916096695,
          -0.09809531099274618,
          null,
          -0.2845783100844275,
          -0.11106688258672005,
          null,
          0.04159745706877879,
          0.22400967916096695,
          null,
          -0.11106688258672005,
          0.04159745706877879,
          null,
          0.29114877552472945,
          0.06537954997745098,
          null,
          0.29114877552472945,
          0.04159745706877879,
          null,
          -0.09809531099274618,
          -0.09809531099274618,
          null,
          -0.2773416133989558,
          -0.11106688258672005,
          null,
          0.22400967916096695,
          0.3564311807008682,
          null,
          0.04159745706877879,
          -0.09809531099274618,
          null,
          0.06537954997745098,
          -0.09809531099274618,
          null,
          -0.11106688258672005,
          0.3564311807008682,
          null,
          0.29114877552472945,
          0.04159745706877879,
          null,
          -0.20748452536994555,
          -0.11106688258672005,
          null,
          -0.20748452536994555,
          0.22400967916096695,
          null,
          -0.20748452536994555,
          -0.09809531099274618,
          null
         ],
         "y": [
          -0.06901764296318888,
          -0.5826221338466268,
          null,
          -0.06901764296318888,
          0.35310285104892153,
          null,
          -0.06901764296318888,
          -0.31318302354716965,
          null,
          0.32960587854687323,
          0.30842509641483745,
          null,
          -0.26121329969697515,
          -0.06901764296318888,
          null,
          0.30842509641483745,
          -0.26121329969697515,
          null,
          -0.5826221338466268,
          -0.7610358329320198,
          null,
          -0.5826221338466268,
          -0.26121329969697515,
          null,
          -0.31318302354716965,
          -0.31318302354716965,
          null,
          0.8693739921136113,
          0.30842509641483745,
          null,
          -0.06901764296318888,
          0.35310285104892153,
          null,
          -0.26121329969697515,
          -0.31318302354716965,
          null,
          -0.7610358329320198,
          -0.31318302354716965,
          null,
          0.30842509641483745,
          0.35310285104892153,
          null,
          -0.5826221338466268,
          -0.26121329969697515,
          null,
          0.12656411486173652,
          0.30842509641483745,
          null,
          0.12656411486173652,
          -0.06901764296318888,
          null,
          0.12656411486173652,
          -0.31318302354716965,
          null
         ],
         "z": [
          -0.271300870644437,
          -0.4004843805898013,
          null,
          -0.271300870644437,
          0.10943658012547212,
          null,
          -0.271300870644437,
          -0.4909160917467403,
          null,
          1,
          0.3849739289406217,
          null,
          -0.012009079478856105,
          -0.271300870644437,
          null,
          0.3849739289406217,
          -0.012009079478856105,
          null,
          -0.4004843805898013,
          -0.7941115725704868,
          null,
          -0.4004843805898013,
          -0.012009079478856105,
          null,
          -0.4909160917467403,
          -0.4909160917467403,
          null,
          0.6534537695014042,
          0.3849739289406217,
          null,
          -0.271300870644437,
          0.10943658012547212,
          null,
          -0.012009079478856105,
          -0.4909160917467403,
          null,
          -0.7941115725704868,
          -0.4909160917467403,
          null,
          0.3849739289406217,
          0.10943658012547212,
          null,
          -0.4004843805898013,
          -0.012009079478856105,
          null,
          -0.17904228353717574,
          0.3849739289406217,
          null,
          -0.17904228353717574,
          -0.271300870644437,
          null,
          -0.17904228353717574,
          -0.4909160917467403,
          null
         ]
        },
        {
         "hoverinfo": "text",
         "marker": {
          "color": [
           0,
           0,
           0,
           0,
           0,
           0,
           0,
           0,
           0,
           0
          ],
          "line": {
           "color": "black",
           "width": 0.5
          },
          "size": 10,
          "symbol": "circle"
         },
         "mode": "markers",
         "text": [
          "2",
          "9",
          "8",
          "7",
          "1",
          "0",
          "5",
          "6",
          "4",
          "3"
         ],
         "type": "scatter3d",
         "x": [
          0.22400967916096695,
          0.29114877552472945,
          0.3564311807008682,
          -0.09809531099274618,
          -0.2845783100844275,
          -0.11106688258672005,
          0.04159745706877879,
          0.06537954997745098,
          -0.2773416133989558,
          -0.20748452536994555
         ],
         "y": [
          -0.06901764296318888,
          -0.5826221338466268,
          0.35310285104892153,
          -0.31318302354716965,
          0.32960587854687323,
          0.30842509641483745,
          -0.26121329969697515,
          -0.7610358329320198,
          0.8693739921136113,
          0.12656411486173652
         ],
         "z": [
          -0.271300870644437,
          -0.4004843805898013,
          0.10943658012547212,
          -0.4909160917467403,
          1,
          0.3849739289406217,
          -0.012009079478856105,
          -0.7941115725704868,
          0.6534537695014042,
          -0.17904228353717574
         ]
        }
       ],
       "layout": {
        "height": 625,
        "hovermode": "closest",
        "margin": {
         "t": 100
        },
        "scene": {
         "xaxis": {
          "showbackground": false,
          "showgrid": false,
          "showline": false,
          "showticklabels": false,
          "title": {
           "text": ""
          },
          "zeroline": false
         },
         "yaxis": {
          "showbackground": false,
          "showgrid": false,
          "showline": false,
          "showticklabels": false,
          "title": {
           "text": ""
          },
          "zeroline": false
         },
         "zaxis": {
          "showbackground": false,
          "showgrid": false,
          "showline": false,
          "showticklabels": false,
          "title": {
           "text": ""
          },
          "zeroline": false
         }
        },
        "showlegend": false,
        "template": {
         "data": {
          "bar": [
           {
            "error_x": {
             "color": "#2a3f5f"
            },
            "error_y": {
             "color": "#2a3f5f"
            },
            "marker": {
             "line": {
              "color": "#E5ECF6",
              "width": 0.5
             }
            },
            "type": "bar"
           }
          ],
          "barpolar": [
           {
            "marker": {
             "line": {
              "color": "#E5ECF6",
              "width": 0.5
             }
            },
            "type": "barpolar"
           }
          ],
          "carpet": [
           {
            "aaxis": {
             "endlinecolor": "#2a3f5f",
             "gridcolor": "white",
             "linecolor": "white",
             "minorgridcolor": "white",
             "startlinecolor": "#2a3f5f"
            },
            "baxis": {
             "endlinecolor": "#2a3f5f",
             "gridcolor": "white",
             "linecolor": "white",
             "minorgridcolor": "white",
             "startlinecolor": "#2a3f5f"
            },
            "type": "carpet"
           }
          ],
          "choropleth": [
           {
            "colorbar": {
             "outlinewidth": 0,
             "ticks": ""
            },
            "type": "choropleth"
           }
          ],
          "contour": [
           {
            "colorbar": {
             "outlinewidth": 0,
             "ticks": ""
            },
            "colorscale": [
             [
              0,
              "#0d0887"
             ],
             [
              0.1111111111111111,
              "#46039f"
             ],
             [
              0.2222222222222222,
              "#7201a8"
             ],
             [
              0.3333333333333333,
              "#9c179e"
             ],
             [
              0.4444444444444444,
              "#bd3786"
             ],
             [
              0.5555555555555556,
              "#d8576b"
             ],
             [
              0.6666666666666666,
              "#ed7953"
             ],
             [
              0.7777777777777778,
              "#fb9f3a"
             ],
             [
              0.8888888888888888,
              "#fdca26"
             ],
             [
              1,
              "#f0f921"
             ]
            ],
            "type": "contour"
           }
          ],
          "contourcarpet": [
           {
            "colorbar": {
             "outlinewidth": 0,
             "ticks": ""
            },
            "type": "contourcarpet"
           }
          ],
          "heatmap": [
           {
            "colorbar": {
             "outlinewidth": 0,
             "ticks": ""
            },
            "colorscale": [
             [
              0,
              "#0d0887"
             ],
             [
              0.1111111111111111,
              "#46039f"
             ],
             [
              0.2222222222222222,
              "#7201a8"
             ],
             [
              0.3333333333333333,
              "#9c179e"
             ],
             [
              0.4444444444444444,
              "#bd3786"
             ],
             [
              0.5555555555555556,
              "#d8576b"
             ],
             [
              0.6666666666666666,
              "#ed7953"
             ],
             [
              0.7777777777777778,
              "#fb9f3a"
             ],
             [
              0.8888888888888888,
              "#fdca26"
             ],
             [
              1,
              "#f0f921"
             ]
            ],
            "type": "heatmap"
           }
          ],
          "heatmapgl": [
           {
            "colorbar": {
             "outlinewidth": 0,
             "ticks": ""
            },
            "colorscale": [
             [
              0,
              "#0d0887"
             ],
             [
              0.1111111111111111,
              "#46039f"
             ],
             [
              0.2222222222222222,
              "#7201a8"
             ],
             [
              0.3333333333333333,
              "#9c179e"
             ],
             [
              0.4444444444444444,
              "#bd3786"
             ],
             [
              0.5555555555555556,
              "#d8576b"
             ],
             [
              0.6666666666666666,
              "#ed7953"
             ],
             [
              0.7777777777777778,
              "#fb9f3a"
             ],
             [
              0.8888888888888888,
              "#fdca26"
             ],
             [
              1,
              "#f0f921"
             ]
            ],
            "type": "heatmapgl"
           }
          ],
          "histogram": [
           {
            "marker": {
             "colorbar": {
              "outlinewidth": 0,
              "ticks": ""
             }
            },
            "type": "histogram"
           }
          ],
          "histogram2d": [
           {
            "colorbar": {
             "outlinewidth": 0,
             "ticks": ""
            },
            "colorscale": [
             [
              0,
              "#0d0887"
             ],
             [
              0.1111111111111111,
              "#46039f"
             ],
             [
              0.2222222222222222,
              "#7201a8"
             ],
             [
              0.3333333333333333,
              "#9c179e"
             ],
             [
              0.4444444444444444,
              "#bd3786"
             ],
             [
              0.5555555555555556,
              "#d8576b"
             ],
             [
              0.6666666666666666,
              "#ed7953"
             ],
             [
              0.7777777777777778,
              "#fb9f3a"
             ],
             [
              0.8888888888888888,
              "#fdca26"
             ],
             [
              1,
              "#f0f921"
             ]
            ],
            "type": "histogram2d"
           }
          ],
          "histogram2dcontour": [
           {
            "colorbar": {
             "outlinewidth": 0,
             "ticks": ""
            },
            "colorscale": [
             [
              0,
              "#0d0887"
             ],
             [
              0.1111111111111111,
              "#46039f"
             ],
             [
              0.2222222222222222,
              "#7201a8"
             ],
             [
              0.3333333333333333,
              "#9c179e"
             ],
             [
              0.4444444444444444,
              "#bd3786"
             ],
             [
              0.5555555555555556,
              "#d8576b"
             ],
             [
              0.6666666666666666,
              "#ed7953"
             ],
             [
              0.7777777777777778,
              "#fb9f3a"
             ],
             [
              0.8888888888888888,
              "#fdca26"
             ],
             [
              1,
              "#f0f921"
             ]
            ],
            "type": "histogram2dcontour"
           }
          ],
          "mesh3d": [
           {
            "colorbar": {
             "outlinewidth": 0,
             "ticks": ""
            },
            "type": "mesh3d"
           }
          ],
          "parcoords": [
           {
            "line": {
             "colorbar": {
              "outlinewidth": 0,
              "ticks": ""
             }
            },
            "type": "parcoords"
           }
          ],
          "pie": [
           {
            "automargin": true,
            "type": "pie"
           }
          ],
          "scatter": [
           {
            "marker": {
             "colorbar": {
              "outlinewidth": 0,
              "ticks": ""
             }
            },
            "type": "scatter"
           }
          ],
          "scatter3d": [
           {
            "line": {
             "colorbar": {
              "outlinewidth": 0,
              "ticks": ""
             }
            },
            "marker": {
             "colorbar": {
              "outlinewidth": 0,
              "ticks": ""
             }
            },
            "type": "scatter3d"
           }
          ],
          "scattercarpet": [
           {
            "marker": {
             "colorbar": {
              "outlinewidth": 0,
              "ticks": ""
             }
            },
            "type": "scattercarpet"
           }
          ],
          "scattergeo": [
           {
            "marker": {
             "colorbar": {
              "outlinewidth": 0,
              "ticks": ""
             }
            },
            "type": "scattergeo"
           }
          ],
          "scattergl": [
           {
            "marker": {
             "colorbar": {
              "outlinewidth": 0,
              "ticks": ""
             }
            },
            "type": "scattergl"
           }
          ],
          "scattermapbox": [
           {
            "marker": {
             "colorbar": {
              "outlinewidth": 0,
              "ticks": ""
             }
            },
            "type": "scattermapbox"
           }
          ],
          "scatterpolar": [
           {
            "marker": {
             "colorbar": {
              "outlinewidth": 0,
              "ticks": ""
             }
            },
            "type": "scatterpolar"
           }
          ],
          "scatterpolargl": [
           {
            "marker": {
             "colorbar": {
              "outlinewidth": 0,
              "ticks": ""
             }
            },
            "type": "scatterpolargl"
           }
          ],
          "scatterternary": [
           {
            "marker": {
             "colorbar": {
              "outlinewidth": 0,
              "ticks": ""
             }
            },
            "type": "scatterternary"
           }
          ],
          "surface": [
           {
            "colorbar": {
             "outlinewidth": 0,
             "ticks": ""
            },
            "colorscale": [
             [
              0,
              "#0d0887"
             ],
             [
              0.1111111111111111,
              "#46039f"
             ],
             [
              0.2222222222222222,
              "#7201a8"
             ],
             [
              0.3333333333333333,
              "#9c179e"
             ],
             [
              0.4444444444444444,
              "#bd3786"
             ],
             [
              0.5555555555555556,
              "#d8576b"
             ],
             [
              0.6666666666666666,
              "#ed7953"
             ],
             [
              0.7777777777777778,
              "#fb9f3a"
             ],
             [
              0.8888888888888888,
              "#fdca26"
             ],
             [
              1,
              "#f0f921"
             ]
            ],
            "type": "surface"
           }
          ],
          "table": [
           {
            "cells": {
             "fill": {
              "color": "#EBF0F8"
             },
             "line": {
              "color": "white"
             }
            },
            "header": {
             "fill": {
              "color": "#C8D4E3"
             },
             "line": {
              "color": "white"
             }
            },
            "type": "table"
           }
          ]
         },
         "layout": {
          "annotationdefaults": {
           "arrowcolor": "#2a3f5f",
           "arrowhead": 0,
           "arrowwidth": 1
          },
          "coloraxis": {
           "colorbar": {
            "outlinewidth": 0,
            "ticks": ""
           }
          },
          "colorscale": {
           "diverging": [
            [
             0,
             "#8e0152"
            ],
            [
             0.1,
             "#c51b7d"
            ],
            [
             0.2,
             "#de77ae"
            ],
            [
             0.3,
             "#f1b6da"
            ],
            [
             0.4,
             "#fde0ef"
            ],
            [
             0.5,
             "#f7f7f7"
            ],
            [
             0.6,
             "#e6f5d0"
            ],
            [
             0.7,
             "#b8e186"
            ],
            [
             0.8,
             "#7fbc41"
            ],
            [
             0.9,
             "#4d9221"
            ],
            [
             1,
             "#276419"
            ]
           ],
           "sequential": [
            [
             0,
             "#0d0887"
            ],
            [
             0.1111111111111111,
             "#46039f"
            ],
            [
             0.2222222222222222,
             "#7201a8"
            ],
            [
             0.3333333333333333,
             "#9c179e"
            ],
            [
             0.4444444444444444,
             "#bd3786"
            ],
            [
             0.5555555555555556,
             "#d8576b"
            ],
            [
             0.6666666666666666,
             "#ed7953"
            ],
            [
             0.7777777777777778,
             "#fb9f3a"
            ],
            [
             0.8888888888888888,
             "#fdca26"
            ],
            [
             1,
             "#f0f921"
            ]
           ],
           "sequentialminus": [
            [
             0,
             "#0d0887"
            ],
            [
             0.1111111111111111,
             "#46039f"
            ],
            [
             0.2222222222222222,
             "#7201a8"
            ],
            [
             0.3333333333333333,
             "#9c179e"
            ],
            [
             0.4444444444444444,
             "#bd3786"
            ],
            [
             0.5555555555555556,
             "#d8576b"
            ],
            [
             0.6666666666666666,
             "#ed7953"
            ],
            [
             0.7777777777777778,
             "#fb9f3a"
            ],
            [
             0.8888888888888888,
             "#fdca26"
            ],
            [
             1,
             "#f0f921"
            ]
           ]
          },
          "colorway": [
           "#636efa",
           "#EF553B",
           "#00cc96",
           "#ab63fa",
           "#FFA15A",
           "#19d3f3",
           "#FF6692",
           "#B6E880",
           "#FF97FF",
           "#FECB52"
          ],
          "font": {
           "color": "#2a3f5f"
          },
          "geo": {
           "bgcolor": "white",
           "lakecolor": "white",
           "landcolor": "#E5ECF6",
           "showlakes": true,
           "showland": true,
           "subunitcolor": "white"
          },
          "hoverlabel": {
           "align": "left"
          },
          "hovermode": "closest",
          "mapbox": {
           "style": "light"
          },
          "paper_bgcolor": "white",
          "plot_bgcolor": "#E5ECF6",
          "polar": {
           "angularaxis": {
            "gridcolor": "white",
            "linecolor": "white",
            "ticks": ""
           },
           "bgcolor": "#E5ECF6",
           "radialaxis": {
            "gridcolor": "white",
            "linecolor": "white",
            "ticks": ""
           }
          },
          "scene": {
           "xaxis": {
            "backgroundcolor": "#E5ECF6",
            "gridcolor": "white",
            "gridwidth": 2,
            "linecolor": "white",
            "showbackground": true,
            "ticks": "",
            "zerolinecolor": "white"
           },
           "yaxis": {
            "backgroundcolor": "#E5ECF6",
            "gridcolor": "white",
            "gridwidth": 2,
            "linecolor": "white",
            "showbackground": true,
            "ticks": "",
            "zerolinecolor": "white"
           },
           "zaxis": {
            "backgroundcolor": "#E5ECF6",
            "gridcolor": "white",
            "gridwidth": 2,
            "linecolor": "white",
            "showbackground": true,
            "ticks": "",
            "zerolinecolor": "white"
           }
          },
          "shapedefaults": {
           "line": {
            "color": "#2a3f5f"
           }
          },
          "ternary": {
           "aaxis": {
            "gridcolor": "white",
            "linecolor": "white",
            "ticks": ""
           },
           "baxis": {
            "gridcolor": "white",
            "linecolor": "white",
            "ticks": ""
           },
           "bgcolor": "#E5ECF6",
           "caxis": {
            "gridcolor": "white",
            "linecolor": "white",
            "ticks": ""
           }
          },
          "title": {
           "x": 0.05
          },
          "xaxis": {
           "automargin": true,
           "gridcolor": "white",
           "linecolor": "white",
           "ticks": "",
           "title": {
            "standoff": 15
           },
           "zerolinecolor": "white",
           "zerolinewidth": 2
          },
          "yaxis": {
           "automargin": true,
           "gridcolor": "white",
           "linecolor": "white",
           "ticks": "",
           "title": {
            "standoff": 15
           },
           "zerolinecolor": "white",
           "zerolinewidth": 2
          }
         }
        },
        "title": {
         "text": "Sample 3D Network Model"
        },
        "width": 650
       }
      },
      "text/html": [
       "<div>\n",
       "        \n",
       "        \n",
       "            <div id=\"584b61de-8d90-4786-bf51-bffc47671053\" class=\"plotly-graph-div\" style=\"height:625px; width:650px;\"></div>\n",
       "            <script type=\"text/javascript\">\n",
       "                require([\"plotly\"], function(Plotly) {\n",
       "                    window.PLOTLYENV=window.PLOTLYENV || {};\n",
       "                    \n",
       "                if (document.getElementById(\"584b61de-8d90-4786-bf51-bffc47671053\")) {\n",
       "                    Plotly.newPlot(\n",
       "                        '584b61de-8d90-4786-bf51-bffc47671053',\n",
       "                        [{\"hoverinfo\": \"none\", \"line\": {\"color\": \"black\", \"width\": 2}, \"mode\": \"lines\", \"type\": \"scatter3d\", \"x\": [0.22400967916096695, 0.29114877552472945, null, 0.22400967916096695, 0.3564311807008682, null, 0.22400967916096695, -0.09809531099274618, null, -0.2845783100844275, -0.11106688258672005, null, 0.04159745706877879, 0.22400967916096695, null, -0.11106688258672005, 0.04159745706877879, null, 0.29114877552472945, 0.06537954997745098, null, 0.29114877552472945, 0.04159745706877879, null, -0.09809531099274618, -0.09809531099274618, null, -0.2773416133989558, -0.11106688258672005, null, 0.22400967916096695, 0.3564311807008682, null, 0.04159745706877879, -0.09809531099274618, null, 0.06537954997745098, -0.09809531099274618, null, -0.11106688258672005, 0.3564311807008682, null, 0.29114877552472945, 0.04159745706877879, null, -0.20748452536994555, -0.11106688258672005, null, -0.20748452536994555, 0.22400967916096695, null, -0.20748452536994555, -0.09809531099274618, null], \"y\": [-0.06901764296318888, -0.5826221338466268, null, -0.06901764296318888, 0.35310285104892153, null, -0.06901764296318888, -0.31318302354716965, null, 0.32960587854687323, 0.30842509641483745, null, -0.26121329969697515, -0.06901764296318888, null, 0.30842509641483745, -0.26121329969697515, null, -0.5826221338466268, -0.7610358329320198, null, -0.5826221338466268, -0.26121329969697515, null, -0.31318302354716965, -0.31318302354716965, null, 0.8693739921136113, 0.30842509641483745, null, -0.06901764296318888, 0.35310285104892153, null, -0.26121329969697515, -0.31318302354716965, null, -0.7610358329320198, -0.31318302354716965, null, 0.30842509641483745, 0.35310285104892153, null, -0.5826221338466268, -0.26121329969697515, null, 0.12656411486173652, 0.30842509641483745, null, 0.12656411486173652, -0.06901764296318888, null, 0.12656411486173652, -0.31318302354716965, null], \"z\": [-0.271300870644437, -0.4004843805898013, null, -0.271300870644437, 0.10943658012547212, null, -0.271300870644437, -0.4909160917467403, null, 1.0, 0.3849739289406217, null, -0.012009079478856105, -0.271300870644437, null, 0.3849739289406217, -0.012009079478856105, null, -0.4004843805898013, -0.7941115725704868, null, -0.4004843805898013, -0.012009079478856105, null, -0.4909160917467403, -0.4909160917467403, null, 0.6534537695014042, 0.3849739289406217, null, -0.271300870644437, 0.10943658012547212, null, -0.012009079478856105, -0.4909160917467403, null, -0.7941115725704868, -0.4909160917467403, null, 0.3849739289406217, 0.10943658012547212, null, -0.4004843805898013, -0.012009079478856105, null, -0.17904228353717574, 0.3849739289406217, null, -0.17904228353717574, -0.271300870644437, null, -0.17904228353717574, -0.4909160917467403, null]}, {\"hoverinfo\": \"text\", \"marker\": {\"color\": [0, 0, 0, 0, 0, 0, 0, 0, 0, 0], \"line\": {\"color\": \"black\", \"width\": 0.5}, \"size\": 10, \"symbol\": \"circle\"}, \"mode\": \"markers\", \"text\": [\"2\", \"9\", \"8\", \"7\", \"1\", \"0\", \"5\", \"6\", \"4\", \"3\"], \"type\": \"scatter3d\", \"x\": [0.22400967916096695, 0.29114877552472945, 0.3564311807008682, -0.09809531099274618, -0.2845783100844275, -0.11106688258672005, 0.04159745706877879, 0.06537954997745098, -0.2773416133989558, -0.20748452536994555], \"y\": [-0.06901764296318888, -0.5826221338466268, 0.35310285104892153, -0.31318302354716965, 0.32960587854687323, 0.30842509641483745, -0.26121329969697515, -0.7610358329320198, 0.8693739921136113, 0.12656411486173652], \"z\": [-0.271300870644437, -0.4004843805898013, 0.10943658012547212, -0.4909160917467403, 1.0, 0.3849739289406217, -0.012009079478856105, -0.7941115725704868, 0.6534537695014042, -0.17904228353717574]}],\n",
       "                        {\"height\": 625, \"hovermode\": \"closest\", \"margin\": {\"t\": 100}, \"scene\": {\"xaxis\": {\"showbackground\": false, \"showgrid\": false, \"showline\": false, \"showticklabels\": false, \"title\": {\"text\": \"\"}, \"zeroline\": false}, \"yaxis\": {\"showbackground\": false, \"showgrid\": false, \"showline\": false, \"showticklabels\": false, \"title\": {\"text\": \"\"}, \"zeroline\": false}, \"zaxis\": {\"showbackground\": false, \"showgrid\": false, \"showline\": false, \"showticklabels\": false, \"title\": {\"text\": \"\"}, \"zeroline\": false}}, \"showlegend\": false, \"template\": {\"data\": {\"bar\": [{\"error_x\": {\"color\": \"#2a3f5f\"}, \"error_y\": {\"color\": \"#2a3f5f\"}, \"marker\": {\"line\": {\"color\": \"#E5ECF6\", \"width\": 0.5}}, \"type\": \"bar\"}], \"barpolar\": [{\"marker\": {\"line\": {\"color\": \"#E5ECF6\", \"width\": 0.5}}, \"type\": \"barpolar\"}], \"carpet\": [{\"aaxis\": {\"endlinecolor\": \"#2a3f5f\", \"gridcolor\": \"white\", \"linecolor\": \"white\", \"minorgridcolor\": \"white\", \"startlinecolor\": \"#2a3f5f\"}, \"baxis\": {\"endlinecolor\": \"#2a3f5f\", \"gridcolor\": \"white\", \"linecolor\": \"white\", \"minorgridcolor\": \"white\", \"startlinecolor\": \"#2a3f5f\"}, \"type\": \"carpet\"}], \"choropleth\": [{\"colorbar\": {\"outlinewidth\": 0, \"ticks\": \"\"}, \"type\": \"choropleth\"}], \"contour\": [{\"colorbar\": {\"outlinewidth\": 0, \"ticks\": \"\"}, \"colorscale\": [[0.0, \"#0d0887\"], [0.1111111111111111, \"#46039f\"], [0.2222222222222222, \"#7201a8\"], [0.3333333333333333, \"#9c179e\"], [0.4444444444444444, \"#bd3786\"], [0.5555555555555556, \"#d8576b\"], [0.6666666666666666, \"#ed7953\"], [0.7777777777777778, \"#fb9f3a\"], [0.8888888888888888, \"#fdca26\"], [1.0, \"#f0f921\"]], \"type\": \"contour\"}], \"contourcarpet\": [{\"colorbar\": {\"outlinewidth\": 0, \"ticks\": \"\"}, \"type\": \"contourcarpet\"}], \"heatmap\": [{\"colorbar\": {\"outlinewidth\": 0, \"ticks\": \"\"}, \"colorscale\": [[0.0, \"#0d0887\"], [0.1111111111111111, \"#46039f\"], [0.2222222222222222, \"#7201a8\"], [0.3333333333333333, \"#9c179e\"], [0.4444444444444444, \"#bd3786\"], [0.5555555555555556, \"#d8576b\"], [0.6666666666666666, \"#ed7953\"], [0.7777777777777778, \"#fb9f3a\"], [0.8888888888888888, \"#fdca26\"], [1.0, \"#f0f921\"]], \"type\": \"heatmap\"}], \"heatmapgl\": [{\"colorbar\": {\"outlinewidth\": 0, \"ticks\": \"\"}, \"colorscale\": [[0.0, \"#0d0887\"], [0.1111111111111111, \"#46039f\"], [0.2222222222222222, \"#7201a8\"], [0.3333333333333333, \"#9c179e\"], [0.4444444444444444, \"#bd3786\"], [0.5555555555555556, \"#d8576b\"], [0.6666666666666666, \"#ed7953\"], [0.7777777777777778, \"#fb9f3a\"], [0.8888888888888888, \"#fdca26\"], [1.0, \"#f0f921\"]], \"type\": \"heatmapgl\"}], \"histogram\": [{\"marker\": {\"colorbar\": {\"outlinewidth\": 0, \"ticks\": \"\"}}, \"type\": \"histogram\"}], \"histogram2d\": [{\"colorbar\": {\"outlinewidth\": 0, \"ticks\": \"\"}, \"colorscale\": [[0.0, \"#0d0887\"], [0.1111111111111111, \"#46039f\"], [0.2222222222222222, \"#7201a8\"], [0.3333333333333333, \"#9c179e\"], [0.4444444444444444, \"#bd3786\"], [0.5555555555555556, \"#d8576b\"], [0.6666666666666666, \"#ed7953\"], [0.7777777777777778, \"#fb9f3a\"], [0.8888888888888888, \"#fdca26\"], [1.0, \"#f0f921\"]], \"type\": \"histogram2d\"}], \"histogram2dcontour\": [{\"colorbar\": {\"outlinewidth\": 0, \"ticks\": \"\"}, \"colorscale\": [[0.0, \"#0d0887\"], [0.1111111111111111, \"#46039f\"], [0.2222222222222222, \"#7201a8\"], [0.3333333333333333, \"#9c179e\"], [0.4444444444444444, \"#bd3786\"], [0.5555555555555556, \"#d8576b\"], [0.6666666666666666, \"#ed7953\"], [0.7777777777777778, \"#fb9f3a\"], [0.8888888888888888, \"#fdca26\"], [1.0, \"#f0f921\"]], \"type\": \"histogram2dcontour\"}], \"mesh3d\": [{\"colorbar\": {\"outlinewidth\": 0, \"ticks\": \"\"}, \"type\": \"mesh3d\"}], \"parcoords\": [{\"line\": {\"colorbar\": {\"outlinewidth\": 0, \"ticks\": \"\"}}, \"type\": \"parcoords\"}], \"pie\": [{\"automargin\": true, \"type\": \"pie\"}], \"scatter\": [{\"marker\": {\"colorbar\": {\"outlinewidth\": 0, \"ticks\": \"\"}}, \"type\": \"scatter\"}], \"scatter3d\": [{\"line\": {\"colorbar\": {\"outlinewidth\": 0, \"ticks\": \"\"}}, \"marker\": {\"colorbar\": {\"outlinewidth\": 0, \"ticks\": \"\"}}, \"type\": \"scatter3d\"}], \"scattercarpet\": [{\"marker\": {\"colorbar\": {\"outlinewidth\": 0, \"ticks\": \"\"}}, \"type\": \"scattercarpet\"}], \"scattergeo\": [{\"marker\": {\"colorbar\": {\"outlinewidth\": 0, \"ticks\": \"\"}}, \"type\": \"scattergeo\"}], \"scattergl\": [{\"marker\": {\"colorbar\": {\"outlinewidth\": 0, \"ticks\": \"\"}}, \"type\": \"scattergl\"}], \"scattermapbox\": [{\"marker\": {\"colorbar\": {\"outlinewidth\": 0, \"ticks\": \"\"}}, \"type\": \"scattermapbox\"}], \"scatterpolar\": [{\"marker\": {\"colorbar\": {\"outlinewidth\": 0, \"ticks\": \"\"}}, \"type\": \"scatterpolar\"}], \"scatterpolargl\": [{\"marker\": {\"colorbar\": {\"outlinewidth\": 0, \"ticks\": \"\"}}, \"type\": \"scatterpolargl\"}], \"scatterternary\": [{\"marker\": {\"colorbar\": {\"outlinewidth\": 0, \"ticks\": \"\"}}, \"type\": \"scatterternary\"}], \"surface\": [{\"colorbar\": {\"outlinewidth\": 0, \"ticks\": \"\"}, \"colorscale\": [[0.0, \"#0d0887\"], [0.1111111111111111, \"#46039f\"], [0.2222222222222222, \"#7201a8\"], [0.3333333333333333, \"#9c179e\"], [0.4444444444444444, \"#bd3786\"], [0.5555555555555556, \"#d8576b\"], [0.6666666666666666, \"#ed7953\"], [0.7777777777777778, \"#fb9f3a\"], [0.8888888888888888, \"#fdca26\"], [1.0, \"#f0f921\"]], \"type\": \"surface\"}], \"table\": [{\"cells\": {\"fill\": {\"color\": \"#EBF0F8\"}, \"line\": {\"color\": \"white\"}}, \"header\": {\"fill\": {\"color\": \"#C8D4E3\"}, \"line\": {\"color\": \"white\"}}, \"type\": \"table\"}]}, \"layout\": {\"annotationdefaults\": {\"arrowcolor\": \"#2a3f5f\", \"arrowhead\": 0, \"arrowwidth\": 1}, \"coloraxis\": {\"colorbar\": {\"outlinewidth\": 0, \"ticks\": \"\"}}, \"colorscale\": {\"diverging\": [[0, \"#8e0152\"], [0.1, \"#c51b7d\"], [0.2, \"#de77ae\"], [0.3, \"#f1b6da\"], [0.4, \"#fde0ef\"], [0.5, \"#f7f7f7\"], [0.6, \"#e6f5d0\"], [0.7, \"#b8e186\"], [0.8, \"#7fbc41\"], [0.9, \"#4d9221\"], [1, \"#276419\"]], \"sequential\": [[0.0, \"#0d0887\"], [0.1111111111111111, \"#46039f\"], [0.2222222222222222, \"#7201a8\"], [0.3333333333333333, \"#9c179e\"], [0.4444444444444444, \"#bd3786\"], [0.5555555555555556, \"#d8576b\"], [0.6666666666666666, \"#ed7953\"], [0.7777777777777778, \"#fb9f3a\"], [0.8888888888888888, \"#fdca26\"], [1.0, \"#f0f921\"]], \"sequentialminus\": [[0.0, \"#0d0887\"], [0.1111111111111111, \"#46039f\"], [0.2222222222222222, \"#7201a8\"], [0.3333333333333333, \"#9c179e\"], [0.4444444444444444, \"#bd3786\"], [0.5555555555555556, \"#d8576b\"], [0.6666666666666666, \"#ed7953\"], [0.7777777777777778, \"#fb9f3a\"], [0.8888888888888888, \"#fdca26\"], [1.0, \"#f0f921\"]]}, \"colorway\": [\"#636efa\", \"#EF553B\", \"#00cc96\", \"#ab63fa\", \"#FFA15A\", \"#19d3f3\", \"#FF6692\", \"#B6E880\", \"#FF97FF\", \"#FECB52\"], \"font\": {\"color\": \"#2a3f5f\"}, \"geo\": {\"bgcolor\": \"white\", \"lakecolor\": \"white\", \"landcolor\": \"#E5ECF6\", \"showlakes\": true, \"showland\": true, \"subunitcolor\": \"white\"}, \"hoverlabel\": {\"align\": \"left\"}, \"hovermode\": \"closest\", \"mapbox\": {\"style\": \"light\"}, \"paper_bgcolor\": \"white\", \"plot_bgcolor\": \"#E5ECF6\", \"polar\": {\"angularaxis\": {\"gridcolor\": \"white\", \"linecolor\": \"white\", \"ticks\": \"\"}, \"bgcolor\": \"#E5ECF6\", \"radialaxis\": {\"gridcolor\": \"white\", \"linecolor\": \"white\", \"ticks\": \"\"}}, \"scene\": {\"xaxis\": {\"backgroundcolor\": \"#E5ECF6\", \"gridcolor\": \"white\", \"gridwidth\": 2, \"linecolor\": \"white\", \"showbackground\": true, \"ticks\": \"\", \"zerolinecolor\": \"white\"}, \"yaxis\": {\"backgroundcolor\": \"#E5ECF6\", \"gridcolor\": \"white\", \"gridwidth\": 2, \"linecolor\": \"white\", \"showbackground\": true, \"ticks\": \"\", \"zerolinecolor\": \"white\"}, \"zaxis\": {\"backgroundcolor\": \"#E5ECF6\", \"gridcolor\": \"white\", \"gridwidth\": 2, \"linecolor\": \"white\", \"showbackground\": true, \"ticks\": \"\", \"zerolinecolor\": \"white\"}}, \"shapedefaults\": {\"line\": {\"color\": \"#2a3f5f\"}}, \"ternary\": {\"aaxis\": {\"gridcolor\": \"white\", \"linecolor\": \"white\", \"ticks\": \"\"}, \"baxis\": {\"gridcolor\": \"white\", \"linecolor\": \"white\", \"ticks\": \"\"}, \"bgcolor\": \"#E5ECF6\", \"caxis\": {\"gridcolor\": \"white\", \"linecolor\": \"white\", \"ticks\": \"\"}}, \"title\": {\"x\": 0.05}, \"xaxis\": {\"automargin\": true, \"gridcolor\": \"white\", \"linecolor\": \"white\", \"ticks\": \"\", \"title\": {\"standoff\": 15}, \"zerolinecolor\": \"white\", \"zerolinewidth\": 2}, \"yaxis\": {\"automargin\": true, \"gridcolor\": \"white\", \"linecolor\": \"white\", \"ticks\": \"\", \"title\": {\"standoff\": 15}, \"zerolinecolor\": \"white\", \"zerolinewidth\": 2}}}, \"title\": {\"text\": \"Sample 3D Network Model\"}, \"width\": 650},\n",
       "                        {\"responsive\": true}\n",
       "                    ).then(function(){\n",
       "                            \n",
       "var gd = document.getElementById('584b61de-8d90-4786-bf51-bffc47671053');\n",
       "var x = new MutationObserver(function (mutations, observer) {{\n",
       "        var display = window.getComputedStyle(gd).display;\n",
       "        if (!display || display === 'none') {{\n",
       "            console.log([gd, 'removed!']);\n",
       "            Plotly.purge(gd);\n",
       "            observer.disconnect();\n",
       "        }}\n",
       "}});\n",
       "\n",
       "// Listen for the removal of the full notebook cells\n",
       "var notebookContainer = gd.closest('#notebook-container');\n",
       "if (notebookContainer) {{\n",
       "    x.observe(notebookContainer, {childList: true});\n",
       "}}\n",
       "\n",
       "// Listen for the clearing of the current output cell\n",
       "var outputEl = gd.closest('.output');\n",
       "if (outputEl) {{\n",
       "    x.observe(outputEl, {childList: true});\n",
       "}}\n",
       "\n",
       "                        })\n",
       "                };\n",
       "                });\n",
       "            </script>\n",
       "        </div>"
      ]
     },
     "metadata": {},
     "output_type": "display_data"
    }
   ],
   "source": [
    "# Define graph and 3D layout\n",
    "G = nx.Graph()\n",
    "nodelist = {\n",
    "  0: [0.33, -5.19, -0.06],\n",
    "  1: [-0.98, -6.22, -9.64],\n",
    "  2: [-5.17, -5.16, 7.66],\n",
    "  3: [0.53, 7.91, -7.21],\n",
    "  4: [-3.42, 6.16, 6.56],\n",
    "  5: [-9.99, -3.12, -8.22],\n",
    "  6: [-6.79, -3.42, 7.94],\n",
    "  7: [3.62, 5.31, -6.33],\n",
    "  8: [-3.33, -3.36, -3.91],\n",
    "  9: [8.37, -6.8, 8.58]\n",
    "}\n",
    "\n",
    "edgelist = [  (2, 9),  (2, 8),  (2, 7),  (1, 0),  (5, 2),  (0, 5),  (9, 6),  (9, 5),  (7, 7),  (4, 0),  (2, 8),  (5, 7),  (6, 7),  (0, 8),  (9, 5), (3, 0), (3, 2), (3,7)]\n",
    "\n",
    "G.add_edges_from(edgelist)\n",
    "G.add_nodes_from(nodelist)\n",
    "\n",
    "# 3D spring layout\n",
    "spring_3D = nx.spring_layout(G, dim=3)\n",
    "\n",
    "# Node positions\n",
    "x_nodes = [spring_3D[node][0] for node in G.nodes()]\n",
    "y_nodes = [spring_3D[node][1] for node in G.nodes()]\n",
    "z_nodes = [spring_3D[node][2] for node in G.nodes()]\n",
    "\n",
    "# Edge coordinates\n",
    "x_edges, y_edges, z_edges = [], [], []\n",
    "for edge in edgelist:\n",
    "    x_coords = [spring_3D[edge[0]][0], spring_3D[edge[1]][0], None]\n",
    "    y_coords = [spring_3D[edge[0]][1], spring_3D[edge[1]][1], None]\n",
    "    z_coords = [spring_3D[edge[0]][2], spring_3D[edge[1]][2], None]\n",
    "    x_edges += x_coords\n",
    "    y_edges += y_coords\n",
    "    z_edges += z_coords\n",
    "\n",
    "# Create edge trace\n",
    "trace_edges = go.Scatter3d(\n",
    "    x=x_edges, y=y_edges, z=z_edges,\n",
    "    mode='lines',\n",
    "    line=dict(color='black', width=2),\n",
    "    hoverinfo='none'\n",
    ")\n",
    "\n",
    "# Create node trace\n",
    "community_label = [0] * len(x_nodes)  # Example community labels\n",
    "club_labels = [str(node) for node in G.nodes()]  # Example node labels\n",
    "trace_nodes = go.Scatter3d(\n",
    "    x=x_nodes, y=y_nodes, z=z_nodes,\n",
    "    mode='markers',\n",
    "    marker=dict(\n",
    "        symbol='circle',\n",
    "        size=10,\n",
    "        color=community_label,\n",
    "        line=dict(color='black', width=0.5)\n",
    "    ),\n",
    "    text=club_labels,\n",
    "    hoverinfo='text'\n",
    ")\n",
    "\n",
    "# Axis definition\n",
    "axis = dict(\n",
    "    showbackground=False,\n",
    "    showline=False,\n",
    "    zeroline=False,\n",
    "    showgrid=False,\n",
    "    showticklabels=False,\n",
    "    title=''\n",
    ")\n",
    "\n",
    "# Layout\n",
    "layout = go.Layout(\n",
    "    title=\"Sample 3D Network Model\",\n",
    "    width=650,\n",
    "    height=625,\n",
    "    showlegend=False,\n",
    "    scene=dict(\n",
    "        xaxis=dict(axis),\n",
    "        yaxis=dict(axis),\n",
    "        zaxis=dict(axis)\n",
    "    ),\n",
    "    margin=dict(t=100),\n",
    "    hovermode='closest'\n",
    ")\n",
    "\n",
    "# Combine traces into a figure\n",
    "data = [trace_edges, trace_nodes]\n",
    "fig = go.Figure(data=data, layout=layout)\n",
    "\n",
    "# Show plot\n",
    "fig.show()"
   ]
  },
  {
   "cell_type": "code",
   "execution_count": 113,
   "id": "4a822b49",
   "metadata": {},
   "outputs": [],
   "source": [
    "fig.write_json('3dplot.json')"
   ]
  },
  {
   "cell_type": "code",
   "execution_count": null,
   "id": "4167b59d",
   "metadata": {},
   "outputs": [],
   "source": []
  }
 ],
 "metadata": {
  "kernelspec": {
   "display_name": "Python 3 (ipykernel)",
   "language": "python",
   "name": "python3"
  },
  "language_info": {
   "codemirror_mode": {
    "name": "ipython",
    "version": 3
   },
   "file_extension": ".py",
   "mimetype": "text/x-python",
   "name": "python",
   "nbconvert_exporter": "python",
   "pygments_lexer": "ipython3",
   "version": "3.7.4"
  }
 },
 "nbformat": 4,
 "nbformat_minor": 5
}
